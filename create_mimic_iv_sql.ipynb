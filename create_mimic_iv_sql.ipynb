{
 "cells": [
  {
   "cell_type": "markdown",
   "metadata": {},
   "source": [
    "### This file converts selected CSV files from the MIMIC IV database into SQL databases\n",
    "#### Authors: Zack Goldblum, Kevin Ramirez Chavez, Josh Miller "
   ]
  },
  {
   "cell_type": "code",
   "execution_count": 10,
   "metadata": {},
   "outputs": [
    {
     "name": "stdout",
     "output_type": "stream",
     "text": [
      "The final project CSV directory is located at: C:/Users/zackg/AppData/Local/Temp/bmes\\final_project_csv\n"
     ]
    }
   ],
   "source": [
    "import os\n",
    "import pandas as pd\n",
    "import sqlite3\n",
    "from bmes import tempdir\n",
    "from csv_to_sql import csv_to_sql\n",
    "from sql_to_df import sql_to_df\n",
    "\n",
    "# CSV file directory\n",
    "\n",
    "csv_dir = os.path.join(tempdir(), \"final_project_csv\")\n",
    "if not os.path.exists(csv_dir):\n",
    "    os.mkdir(csv_dir)\n",
    "\n",
    "# SQL database directory\n",
    "\n",
    "sql_dir = os.path.join(tempdir(), \"final_project_sql\")\n",
    "if not os.path.exists(sql_dir):\n",
    "    os.mkdir(sql_dir)\n",
    "\n",
    "print(f\"The final project CSV directory is located at: {csv_dir}\")\n",
    "\n",
    "def create_sql_path(filename):\n",
    "    \"\"\"\n",
    "    This function creates a SQL filepath\n",
    "\n",
    "    Arguments\n",
    "    ---------\n",
    "        filename (str): name of the SQL database to create\n",
    "\n",
    "    Returns\n",
    "    -------\n",
    "        None\n",
    "    \"\"\"\n",
    "\n",
    "    return os.path.join(sql_dir, filename + \".sqlite\")"
   ]
  },
  {
   "cell_type": "markdown",
   "metadata": {},
   "source": [
    "### Extract the following CSV files from the MIMIC IV database to the final project CSV directory (above)\n",
    "[MIMIC IV Dataset](https://physionet.org/content/mimiciv/2.1/)\n",
    "* hosp/admissions.csv\n",
    "* hosp/d_icd_diagnoses.csv\n",
    "* hosp/diagnoses_icd.csv\n",
    "* hosp/patients.csv\n",
    "* hosp/pharmacy.csv\n",
    "* icu/icustays.csv"
   ]
  },
  {
   "cell_type": "markdown",
   "metadata": {},
   "source": [
    "### Create SQL databases with the corresponding columns"
   ]
  },
  {
   "cell_type": "code",
   "execution_count": 11,
   "metadata": {},
   "outputs": [],
   "source": [
    "to_get_dict = {\"patients\": [\"subject_id\", \"gender\", \"anchor_age\"], \n",
    "               \"pharmacy\": [\"subject_id\", \"medication\"], \n",
    "               \"admissions\": [\"subject_id\", \"deathtime\"], \n",
    "               \"diagnoses_icd\": [\"subject_id\", \"icd_code\"], \n",
    "               \"icustays\": [\"subject_id\", \"first_careunit\"], \n",
    "               \"d_icd_diagnoses\": [\"icd_code\", \"long_title\"]}\n",
    "\n",
    "for name, cols in to_get_dict.items():\n",
    "    csv_to_sql(csv_dir, sql_dir, name, cols)"
   ]
  },
  {
   "cell_type": "markdown",
   "metadata": {},
   "source": [
    "### Load all SQL databases into a Pandas DataFrame"
   ]
  },
  {
   "cell_type": "code",
   "execution_count": 12,
   "metadata": {},
   "outputs": [
    {
     "name": "stdout",
     "output_type": "stream",
     "text": [
      "Done patients\n",
      "Done pharmacy\n",
      "Done admissions\n",
      "Done ICU stays\n",
      "Done diagnoses\n"
     ]
    }
   ],
   "source": [
    "# This table is created to obtain our specified variables from the patients table\n",
    "pat = sql_to_df(create_sql_path(\"patients\"), \" SELECT subject_id, gender, anchor_age FROM patients\")\n",
    "print(\"Done patients\")\n",
    "\n",
    "# This table is created to obtain our specified variables from the pharmacy table\n",
    "pharma = sql_to_df(create_sql_path(\"pharmacy\"), \" SELECT subject_id, medication FROM pharmacy\")\n",
    "# combine multiple subject_id rows into into one row with list of medications\n",
    "pharma = pharma.groupby(['subject_id'])['medication'].apply(lambda x: ','.join(x.astype(str))).reset_index()\n",
    "print(\"Done pharmacy\")\n",
    "\n",
    "# This table is created to obtain our specified variables from the admissions table\n",
    "admi = sql_to_df(create_sql_path(\"admissions\"), \" SELECT subject_id, deathtime FROM admissions\")\n",
    "admi = admi.groupby(['subject_id'])['deathtime'].apply(lambda x: ','.join(x.astype(str))).reset_index()\n",
    "print(\"Done admissions\")\n",
    "\n",
    "# This table is created to obtain our specified variables from the icustays table\n",
    "stays = sql_to_df(create_sql_path(\"icustays\"), \" SELECT subject_id, first_careunit FROM icustays\")\n",
    "# combine multiple subject_id rows into into one row with list of stays\n",
    "stays = stays.groupby(['subject_id'])['first_careunit'].apply(lambda x: ','.join(x.astype(str))).reset_index()\n",
    "print(\"Done ICU stays\")\n",
    "\n",
    "# This table is created to obtain our specified variables from the diagnoses_icu table\n",
    "diag = sql_to_df(create_sql_path(\"diagnoses_icd\"), \" SELECT subject_id, icd_code FROM diagnoses_icd\")\n",
    "# combine multiple subject_id rows into into one row with list of icd diagnoses\n",
    "diag = diag.groupby(['subject_id'])['icd_code'].apply(lambda x: ','.join(x.astype(str))).reset_index()\n",
    "print(\"Done diagnoses\")\n",
    "\n",
    "# Concatenating along columns\n",
    "patient_data = pd.concat ([pat, pharma, admi, stays, diag], axis=1)\n",
    "patient_data = patient_data.loc[:, ~patient_data.columns.duplicated()]"
   ]
  },
  {
   "cell_type": "markdown",
   "metadata": {},
   "source": [
    "### Store the PandasDataFrame with all relevant patient information into the patient_data SQL database"
   ]
  },
  {
   "cell_type": "code",
   "execution_count": 13,
   "metadata": {},
   "outputs": [
    {
     "name": "stdout",
     "output_type": "stream",
     "text": [
      "Creating patient_data.sqlite ...\n",
      "Done\n"
     ]
    }
   ],
   "source": [
    "patient_data_filepath = create_sql_path(\"patient_data\")\n",
    "\n",
    "if not os.path.exists(patient_data_filepath):\n",
    "    print(\"Creating patient_data.sqlite ...\")\n",
    "    db = sqlite3.connect(patient_data_filepath)\n",
    "    \n",
    "    db.execute(\"\"\"CREATE TABLE   IF NOT EXISTS   patient_data (\n",
    "        row_idx INTEGER PRIMARY KEY AUTOINCREMENT, \n",
    "        subject_id INTEGER, \n",
    "        gender VARCHAR(1), \n",
    "        anchor_age INTEGER, \n",
    "        medication TEXT, \n",
    "        deathtime TEXT, \n",
    "        first_careunit TEXT, \n",
    "        icd_code TEXT)\n",
    "        \"\"\")\n",
    "    \n",
    "    for row in patient_data.itertuples():\n",
    "        db.execute(\"\"\" INSERT INTO patient_data (subject_id, gender, anchor_age, medication, deathtime, first_careunit, icd_code) \n",
    "                VALUES (?, ?, ?, ?, ?, ?, ?) \"\"\", \n",
    "                (row.subject_id, row.gender, row.anchor_age, row.medication, row.deathtime, row.first_careunit, row.icd_code, )\n",
    "                )\n",
    "    \n",
    "    db.commit()\n",
    "    db.close()\n",
    "\n",
    "    print(\"Done\")"
   ]
  },
  {
   "cell_type": "markdown",
   "metadata": {},
   "source": [
    "### Create a SQL database with unique pharmacy rows"
   ]
  },
  {
   "cell_type": "code",
   "execution_count": 14,
   "metadata": {},
   "outputs": [
    {
     "name": "stdout",
     "output_type": "stream",
     "text": [
      "Creating C:/Users/zackg/AppData/Local/Temp/bmes\\final_project_sql\\pharmacy_unique.sqlite\n"
     ]
    }
   ],
   "source": [
    "from create_unique_pharm_sql import create_unique_pharm_sql\n",
    "\n",
    "create_unique_pharm_sql()"
   ]
  }
 ],
 "metadata": {
  "kernelspec": {
   "display_name": "Python 3.10.8 64-bit (microsoft store)",
   "language": "python",
   "name": "python3"
  },
  "language_info": {
   "codemirror_mode": {
    "name": "ipython",
    "version": 3
   },
   "file_extension": ".py",
   "mimetype": "text/x-python",
   "name": "python",
   "nbconvert_exporter": "python",
   "pygments_lexer": "ipython3",
   "version": "3.10.8"
  },
  "orig_nbformat": 4,
  "vscode": {
   "interpreter": {
    "hash": "d9c1e24752b3065052c27c07c0a22748a6118d05dd89b50e77c79e7ce74e5970"
   }
  }
 },
 "nbformat": 4,
 "nbformat_minor": 2
}
